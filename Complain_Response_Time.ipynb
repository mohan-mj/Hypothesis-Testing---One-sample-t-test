{
 "cells": [
  {
   "cell_type": "markdown",
   "source": [
    "## A computer manufacturing company claims that on an average it will respond to any complaint logged by the customer from anywhere in the world in 24hours.\n",
    "## Validate the claim"
   ],
   "metadata": {
    "deletable": true,
    "editable": true
   }
  },
  {
   "cell_type": "code",
   "execution_count": 1,
   "source": [
    "import pandas as mypandas\r\n",
    "from scipy import stats as mystats"
   ],
   "outputs": [],
   "metadata": {
    "collapsed": true,
    "deletable": true,
    "editable": true
   }
  },
  {
   "cell_type": "code",
   "execution_count": 2,
   "source": [
    "myData=mypandas.read_csv('.\\data\\Complaint_Response_Time.csv')\r\n",
    "RT=myData.Response_Time  \r\n",
    "RT"
   ],
   "outputs": [
    {
     "output_type": "execute_result",
     "data": {
      "text/plain": [
       "0     24\n",
       "1     31\n",
       "2     29\n",
       "3     26\n",
       "4     28\n",
       "5     26\n",
       "6     29\n",
       "7     29\n",
       "8     27\n",
       "9     31\n",
       "10    25\n",
       "11    29\n",
       "12    29\n",
       "13    25\n",
       "14    26\n",
       "15    26\n",
       "16    27\n",
       "17    24\n",
       "18    23\n",
       "19    27\n",
       "20    28\n",
       "21    27\n",
       "22    23\n",
       "23    27\n",
       "24    23\n",
       "25    25\n",
       "26    27\n",
       "27    26\n",
       "28    28\n",
       "29    27\n",
       "Name: Response_Time, dtype: int64"
      ]
     },
     "metadata": {},
     "execution_count": 2
    }
   ],
   "metadata": {
    "collapsed": false,
    "deletable": true,
    "editable": true
   }
  },
  {
   "cell_type": "code",
   "execution_count": 3,
   "source": [
    "mystats.ttest_1samp(RT,24)"
   ],
   "outputs": [
    {
     "output_type": "execute_result",
     "data": {
      "text/plain": [
       "Ttest_1sampResult(statistic=6.9166494239747873, pvalue=1.3350896696104558e-07)"
      ]
     },
     "metadata": {},
     "execution_count": 3
    }
   ],
   "metadata": {
    "collapsed": false,
    "deletable": true,
    "editable": true
   }
  },
  {
   "cell_type": "code",
   "execution_count": 4,
   "source": [
    "RT.mean()"
   ],
   "outputs": [
    {
     "output_type": "execute_result",
     "data": {
      "text/plain": [
       "26.733333333333334"
      ]
     },
     "metadata": {},
     "execution_count": 4
    }
   ],
   "metadata": {
    "collapsed": false,
    "deletable": true,
    "editable": true
   }
  },
  {
   "cell_type": "code",
   "execution_count": 5,
   "source": [
    "#p value <0.05 ==> claim is not true - Null Hypothesis H0 rejected"
   ],
   "outputs": [],
   "metadata": {
    "collapsed": true,
    "deletable": true,
    "editable": true
   }
  }
 ],
 "metadata": {
  "kernelspec": {
   "display_name": "Python 3",
   "language": "python",
   "name": "python3"
  },
  "language_info": {
   "codemirror_mode": {
    "name": "ipython",
    "version": 3
   },
   "file_extension": ".py",
   "mimetype": "text/x-python",
   "name": "python",
   "nbconvert_exporter": "python",
   "pygments_lexer": "ipython3",
   "version": "3.6.4"
  }
 },
 "nbformat": 4,
 "nbformat_minor": 2
}