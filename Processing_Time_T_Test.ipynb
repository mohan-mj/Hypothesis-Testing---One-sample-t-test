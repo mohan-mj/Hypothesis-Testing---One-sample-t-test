{
 "cells": [
  {
   "cell_type": "markdown",
   "source": [
    "## A company claims that on an average it takes only 40 hours to process any purchase order. Validate the claim?"
   ],
   "metadata": {
    "deletable": true,
    "editable": true
   }
  },
  {
   "cell_type": "markdown",
   "source": [
    "### Hypothesis \n",
    "#### Null Hypothesis H0: Mean processing time =40\n",
    "#### Alternate Hypothesis H1: Mean processing time != 40"
   ],
   "metadata": {
    "deletable": true,
    "editable": true
   }
  },
  {
   "cell_type": "code",
   "execution_count": 4,
   "source": [
    "import pandas as mypanda\r\n",
    "from scipy import stats as mystats"
   ],
   "outputs": [],
   "metadata": {
    "collapsed": true,
    "deletable": true,
    "editable": true
   }
  },
  {
   "cell_type": "code",
   "execution_count": 5,
   "source": [
    "myData=mypanda.read_csv(\"'.\\data\\PO_Processing.csv\")\r\n",
    "#myData"
   ],
   "outputs": [],
   "metadata": {
    "collapsed": true,
    "deletable": true,
    "editable": true
   }
  },
  {
   "cell_type": "code",
   "execution_count": 6,
   "source": [
    "PT=myData.Processing_Time\r\n",
    "PT"
   ],
   "outputs": [
    {
     "output_type": "execute_result",
     "data": {
      "text/plain": [
       "0      49\n",
       "1      46\n",
       "2      56\n",
       "3      56\n",
       "4      68\n",
       "5      46\n",
       "6      65\n",
       "7      21\n",
       "8      10\n",
       "9      26\n",
       "10     35\n",
       "11     25\n",
       "12     54\n",
       "13    105\n",
       "14      2\n",
       "15     39\n",
       "16     92\n",
       "17     44\n",
       "18     30\n",
       "19     36\n",
       "20     42\n",
       "21     43\n",
       "22     83\n",
       "23     68\n",
       "24     45\n",
       "25    102\n",
       "26      5\n",
       "27     54\n",
       "28     20\n",
       "29     52\n",
       "     ... \n",
       "70     39\n",
       "71     61\n",
       "72     93\n",
       "73     48\n",
       "74      3\n",
       "75     55\n",
       "76     26\n",
       "77     61\n",
       "78     55\n",
       "79     77\n",
       "80     51\n",
       "81     50\n",
       "82      2\n",
       "83     60\n",
       "84     44\n",
       "85     41\n",
       "86     10\n",
       "87     57\n",
       "88     47\n",
       "89     55\n",
       "90      1\n",
       "91     61\n",
       "92     60\n",
       "93      4\n",
       "94     51\n",
       "95     36\n",
       "96     37\n",
       "97     12\n",
       "98     42\n",
       "99     72\n",
       "Name: Processing_Time, Length: 100, dtype: int64"
      ]
     },
     "metadata": {},
     "execution_count": 6
    }
   ],
   "metadata": {
    "collapsed": false,
    "deletable": true,
    "editable": true
   }
  },
  {
   "cell_type": "code",
   "execution_count": 7,
   "source": [
    "mystats.ttest_1samp(PT,40)"
   ],
   "outputs": [
    {
     "output_type": "execute_result",
     "data": {
      "text/plain": [
       "Ttest_1sampResult(statistic=3.7031497788267194, pvalue=0.00035052328791173307)"
      ]
     },
     "metadata": {},
     "execution_count": 7
    }
   ],
   "metadata": {
    "collapsed": false,
    "deletable": true,
    "editable": true
   }
  },
  {
   "cell_type": "code",
   "execution_count": 8,
   "source": [
    "PT.mean()"
   ],
   "outputs": [
    {
     "output_type": "execute_result",
     "data": {
      "text/plain": [
       "49.0"
      ]
     },
     "metadata": {},
     "execution_count": 8
    }
   ],
   "metadata": {
    "collapsed": false,
    "deletable": true,
    "editable": true,
    "scrolled": true
   }
  },
  {
   "cell_type": "code",
   "execution_count": 10,
   "source": [
    "#Conclusion is H0 rejected since p<0.05 ==> not satisfied"
   ],
   "outputs": [],
   "metadata": {
    "collapsed": true,
    "deletable": true,
    "editable": true
   }
  },
  {
   "cell_type": "code",
   "execution_count": null,
   "source": [],
   "outputs": [],
   "metadata": {
    "collapsed": true,
    "deletable": true,
    "editable": true
   }
  }
 ],
 "metadata": {
  "kernelspec": {
   "display_name": "Python 3",
   "language": "python",
   "name": "python3"
  },
  "language_info": {
   "codemirror_mode": {
    "name": "ipython",
    "version": 3
   },
   "file_extension": ".py",
   "mimetype": "text/x-python",
   "name": "python",
   "nbconvert_exporter": "python",
   "pygments_lexer": "ipython3",
   "version": "3.6.4"
  }
 },
 "nbformat": 4,
 "nbformat_minor": 2
}